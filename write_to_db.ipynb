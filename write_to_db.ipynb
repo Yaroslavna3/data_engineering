{
  "nbformat": 4,
  "nbformat_minor": 0,
  "metadata": {
    "colab": {
      "provenance": []
    },
    "kernelspec": {
      "name": "python3",
      "display_name": "Python 3"
    },
    "language_info": {
      "name": "python"
    }
  },
  "cells": [
    {
      "cell_type": "code",
      "execution_count": 4,
      "metadata": {
        "colab": {
          "base_uri": "https://localhost:8080/"
        },
        "id": "VP2e5i-MVH3f",
        "outputId": "64e55d3e-5034-4e02-9e93-29da375f19b1"
      },
      "outputs": [
        {
          "output_type": "stream",
          "name": "stdout",
          "text": [
            "Requirement already satisfied: gdown in /usr/local/lib/python3.12/dist-packages (5.2.0)\n",
            "Requirement already satisfied: beautifulsoup4 in /usr/local/lib/python3.12/dist-packages (from gdown) (4.13.5)\n",
            "Requirement already satisfied: filelock in /usr/local/lib/python3.12/dist-packages (from gdown) (3.20.0)\n",
            "Requirement already satisfied: requests[socks] in /usr/local/lib/python3.12/dist-packages (from gdown) (2.32.4)\n",
            "Requirement already satisfied: tqdm in /usr/local/lib/python3.12/dist-packages (from gdown) (4.67.1)\n",
            "Requirement already satisfied: soupsieve>1.2 in /usr/local/lib/python3.12/dist-packages (from beautifulsoup4->gdown) (2.8)\n",
            "Requirement already satisfied: typing-extensions>=4.0.0 in /usr/local/lib/python3.12/dist-packages (from beautifulsoup4->gdown) (4.15.0)\n",
            "Requirement already satisfied: charset_normalizer<4,>=2 in /usr/local/lib/python3.12/dist-packages (from requests[socks]->gdown) (3.4.4)\n",
            "Requirement already satisfied: idna<4,>=2.5 in /usr/local/lib/python3.12/dist-packages (from requests[socks]->gdown) (3.11)\n",
            "Requirement already satisfied: urllib3<3,>=1.21.1 in /usr/local/lib/python3.12/dist-packages (from requests[socks]->gdown) (2.5.0)\n",
            "Requirement already satisfied: certifi>=2017.4.17 in /usr/local/lib/python3.12/dist-packages (from requests[socks]->gdown) (2025.10.5)\n",
            "Requirement already satisfied: PySocks!=1.5.7,>=1.5.6 in /usr/local/lib/python3.12/dist-packages (from requests[socks]->gdown) (1.7.1)\n"
          ]
        },
        {
          "output_type": "stream",
          "name": "stderr",
          "text": [
            "Downloading...\n",
            "From: https://drive.google.com/uc?id=1HE95jS3H9xWzmEJSD12QR5C6ufKkXj2E\n",
            "To: /content/creds.db\n",
            "100%|██████████| 12.3k/12.3k [00:00<00:00, 29.5MB/s]\n"
          ]
        },
        {
          "output_type": "execute_result",
          "data": {
            "text/plain": [
              "[('Jp',),\n",
              " ('Se',),\n",
              " ('Za',),\n",
              " ('Kr',),\n",
              " ('Au',),\n",
              " ('Ke',),\n",
              " ('Us',),\n",
              " ('Us',),\n",
              " ('Br',),\n",
              " ('Ar',)]"
            ]
          },
          "metadata": {},
          "execution_count": 4
        }
      ],
      "source": [
        "from sqlalchemy import create_engine, text, inspect\n",
        "import sqlite3\n",
        "import os\n",
        "import pandas as pd\n",
        "!pip install gdown\n",
        "import gdown\n",
        "\n",
        "file_id = \"1HE95jS3H9xWzmEJSD12QR5C6ufKkXj2E\"\n",
        "url = f\"https://drive.google.com/uc?id={file_id}\"\n",
        "output = \"creds.db\"\n",
        "\n",
        "gdown.download(url, output, quiet=False)\n",
        "\n",
        "conn = sqlite3.connect(output)\n",
        "cur = conn.cursor()\n",
        "\n",
        "# get access parameters\n",
        "cur.execute(\"SELECT * FROM access LIMIT 1;\")\n",
        "row = [r for r in cur.fetchall()]\n",
        "cur.execute(\"PRAGMA table_info(access)\")\n",
        "cols = [r for r in cur.fetchall()]\n",
        "conn.close()\n",
        "\n",
        "# create dict with access parameters\n",
        "for i in range(len(cols)):\n",
        "    cols[i] = list(cols[i])\n",
        "cols_transpose = [list(row) for row in zip(*cols)]\n",
        "data = dict(zip(cols_transpose[1], row[0])) # учетные данные для подключения к бд\n",
        "\n",
        "\n",
        "db_user = data['user']\n",
        "db_password = data['pass']\n",
        "db_url = data['url']\n",
        "db_port = data['port']\n",
        "db_root_base = 'homeworks'\n",
        "\n",
        "file_id = '1PLRMh5K3zbbXbN8HYnyciJWkfhosadFs'\n",
        "file_url = f\"https://drive.google.com/uc?id={file_id}\"\n",
        "df = pd.read_csv(file_url, encoding=\"UTF-8\")\n",
        "df = df[:100]\n",
        "# df[\"id\"] = df.index\n",
        "\n",
        "engine = create_engine(\n",
        "    f\"postgresql+psycopg2://{db_user}:{db_password}@{db_url}:{db_port}/{db_root_base}\",  # noqa\n",
        "    pool_recycle=3600,\n",
        "    # echo=True,\n",
        ")\n",
        "\n",
        "df.to_sql(\n",
        "    name=\"topalova\",\n",
        "    con=engine,\n",
        "    schema=\"public\",\n",
        "    if_exists=\"replace\",  # или \"append\"\n",
        "    index=True,\n",
        ")\n",
        "\n",
        "with engine.begin() as conn:\n",
        "    rows = conn.execute(text('ALTER TABLE public.topalova ADD PRIMARY KEY (index)'))\n",
        "\n",
        "inspector = inspect(engine)\n",
        "\n",
        "columns = inspector.get_columns(\"topalova\", schema=\"public\")\n",
        "\n",
        "{col[\"name\"]: col[\"type\"] for col in columns}\n",
        "\n",
        "\n",
        "# with engine.begin() as conn:\n",
        "#     query = \"\"\"\n",
        "#     SELECT t.country\n",
        "#     FROM public.topalova AS t\n",
        "#     LIMIT 10\n",
        "#     \"\"\"\n",
        "#     rows = conn.execute(text(query)).all()\n",
        "\n",
        "# rows"
      ]
    },
    {
      "cell_type": "code",
      "source": [],
      "metadata": {
        "id": "BSUFEDUQc9yX"
      },
      "execution_count": null,
      "outputs": []
    }
  ]
}